{
 "cells": [
  {
   "cell_type": "code",
   "execution_count": 10,
   "metadata": {},
   "outputs": [],
   "source": [
    "import pandas as pd\n",
    "import matplotlib.pyplot as plt\n",
    "import seaborn as sns\n",
    "import numpy as np\n",
    "from scipy.stats.contingency import association\n",
    "from scipy.stats import chi2_contingency\n",
    "import statsmodels.api as sm\n",
    "\n",
    "\n",
    "%matplotlib inline"
   ]
  },
  {
   "cell_type": "code",
   "execution_count": 11,
   "metadata": {},
   "outputs": [],
   "source": [
    "url = '/Users/javi/Desktop/dsfvfvdv/amz_uk_price_prediction_dataset.csv'\n",
    "df = pd.read_csv(url)"
   ]
  },
  {
   "cell_type": "markdown",
   "metadata": {},
   "source": [
    "# Crosstab Analysis\n"
   ]
  },
  {
   "cell_type": "code",
   "execution_count": 12,
   "metadata": {},
   "outputs": [
    {
     "name": "stdout",
     "output_type": "stream",
     "text": [
      "isBestSeller                  False  True \n",
      "category                                  \n",
      "Grocery                        9008    556\n",
      "Health & Personal Care         9017    552\n",
      "Baby                          14709    341\n",
      "Sports & Outdoors            835935    330\n",
      "Power & Hand Tools             8353    306\n",
      "...                             ...    ...\n",
      "Downhill Ski Boots             1284      0\n",
      "Digital Frames                  774      0\n",
      "Motorbike Chassis               107      0\n",
      "Motorbike Drive & Gears         250      0\n",
      "eBook Readers & Accessories     246      0\n",
      "\n",
      "[296 rows x 2 columns]\n"
     ]
    }
   ],
   "source": [
    "crosstab_result = pd.crosstab(df['category'], df['isBestSeller'])\n",
    "sorted_crosstab_result = crosstab_result.sort_values(by=True, ascending=False)\n",
    "\n",
    "print(sorted_crosstab_result)\n",
    "\n",
    "#There are no discernable products but Groceries, Health & Personal Care, Power & Hand Tools have around 6% influence not enough to be of any meaning need further investigation"
   ]
  },
  {
   "cell_type": "markdown",
   "metadata": {},
   "source": [
    "# Statistical Tests"
   ]
  },
  {
   "cell_type": "markdown",
   "metadata": {},
   "source": [
    "# Chi-square test"
   ]
  },
  {
   "cell_type": "code",
   "execution_count": 13,
   "metadata": {},
   "outputs": [
    {
     "data": {
      "text/plain": [
       "(36540.20270061387, 0.0)"
      ]
     },
     "execution_count": 13,
     "metadata": {},
     "output_type": "execute_result"
    }
   ],
   "source": [
    "chi2_statistic, chi2_p_value, _, _ = chi2_contingency(crosstab_result)\n",
    "chi2_statistic, chi2_p_value\n"
   ]
  },
  {
   "cell_type": "code",
   "execution_count": 37,
   "metadata": {},
   "outputs": [],
   "source": [
    "# Interpretation of numbers there is a very high and even say extreme association between the df['category'] and df['isBestSeller'] \n"
   ]
  },
  {
   "cell_type": "markdown",
   "metadata": {},
   "source": [
    "# Cramér's V"
   ]
  },
  {
   "cell_type": "code",
   "execution_count": 14,
   "metadata": {},
   "outputs": [
    {
     "data": {
      "text/plain": [
       "0.1222829439760564"
      ]
     },
     "execution_count": 14,
     "metadata": {},
     "output_type": "execute_result"
    }
   ],
   "source": [
    "association(crosstab_result, method=\"cramer\")\n"
   ]
  },
  {
   "cell_type": "code",
   "execution_count": null,
   "metadata": {},
   "outputs": [],
   "source": [
    "# Interpretation of Cramér's V 0.122 suggests quite a weak association between the two variables. Though statistically significant, the strength of this relationship is not very strong in practical terms. "
   ]
  },
  {
   "cell_type": "markdown",
   "metadata": {},
   "source": [
    "# Visualization stacked bar chart"
   ]
  },
  {
   "cell_type": "code",
   "execution_count": null,
   "metadata": {},
   "outputs": [],
   "source": [
    "crosstab_result.plot(kind=\"bar\", stacked=True)\n",
    "plt.xticks(rotation=45, ha='right')\n",
    "plt.show()"
   ]
  },
  {
   "cell_type": "markdown",
   "metadata": {},
   "source": [
    "# Part 2: Exploring Product Prices and Ratings Across Categories and Brands"
   ]
  },
  {
   "cell_type": "markdown",
   "metadata": {},
   "source": [
    "# Preliminary Step: Remove outliers in product prices."
   ]
  },
  {
   "cell_type": "code",
   "execution_count": null,
   "metadata": {},
   "outputs": [],
   "source": [
    "def tukeys_test_outliers(data):\n",
    "    Q1 = data.quantile(0.25)\n",
    "    Q3 = data.quantile(0.75)\n",
    "    IQR = Q3 - Q1\n",
    "    \n",
    "    # Define bounds for the outliers\n",
    "    lower_bound = Q1 - 1.5 * IQR\n",
    "    upper_bound = Q3 + 1.5 * IQR\n",
    "    \n",
    "    # Identify the outliers\n",
    "    outliers = data[(data < lower_bound) | (data > upper_bound)]\n",
    "    \n",
    "    return outliers\n",
    "\n",
    "# Apply Tukey's test to identify outliers in the 'price' column\n",
    "data_series = df['price']  \n",
    "outliers = tukeys_test_outliers(data_series)\n",
    "\n",
    "\n"
   ]
  },
  {
   "cell_type": "markdown",
   "metadata": {},
   "source": [
    "# Violin Plots"
   ]
  },
  {
   "cell_type": "code",
   "execution_count": null,
   "metadata": {},
   "outputs": [],
   "source": [
    "# Create a new DataFrame without outliers\n",
    "filtered_df = df[~df['price'].isin(outliers)]\n",
    "\n",
    "category_counts = filtered_df['category'].value_counts()\n",
    "\n",
    "top_20_categories = category_counts.head(20).index\n",
    "\n",
    "filtered_df_top_20 = filtered_df[filtered_df['category'].isin(top_20_categories)]\n",
    "\n",
    "sns.violinplot(data=filtered_df_top_20, x='category', y='price', palette=\"coolwarm\")\n",
    "\n",
    "plt.xticks(rotation=45, ha='right')\n",
    "\n",
    "plt.show()"
   ]
  },
  {
   "cell_type": "markdown",
   "metadata": {},
   "source": [
    "Which product category tends to have the highest median price? Don't filter here by top categories."
   ]
  },
  {
   "cell_type": "code",
   "execution_count": null,
   "metadata": {},
   "outputs": [],
   "source": [
    "# Best or highest median are = Men, Fragrances and Sports & Outdoors in that order"
   ]
  },
  {
   "cell_type": "markdown",
   "metadata": {},
   "source": [
    "# Bar charts"
   ]
  },
  {
   "cell_type": "code",
   "execution_count": null,
   "metadata": {},
   "outputs": [],
   "source": [
    "category_counts = filtered_df['category'].value_counts()\n",
    "\n",
    "# Select the top 10 categories\n",
    "top_10_categories = category_counts.head(10).index\n",
    "\n",
    "# Filter the DataFrame to include only the top 10 categories\n",
    "filtered_df_top_10 = filtered_df[filtered_df['category'].isin(top_10_categories)]\n",
    "# Plotting a bar plot to visualize the average 'price' for each 'category' category, using the \"coolwarm\" color palette\n",
    "sns.barplot(data=filtered_df_top_10, x='category', y='price', palette=\"coolwarm\")\n",
    "plt.xticks(rotation=45, ha='right')\n",
    "\n",
    "# Show the plot\n",
    "plt.show()\n"
   ]
  },
  {
   "cell_type": "code",
   "execution_count": null,
   "metadata": {},
   "outputs": [],
   "source": [
    "# the highest average price is commanded by Sports & Outdoors"
   ]
  },
  {
   "cell_type": "markdown",
   "metadata": {},
   "source": [
    "# Box Plots"
   ]
  },
  {
   "cell_type": "code",
   "execution_count": null,
   "metadata": {},
   "outputs": [],
   "source": [
    "filtered_df_top_10 = filtered_df_top_10[filtered_df_top_10['stars'] > 0]\n",
    "# Plotting a box plot to visualize the spread and outliers of 'SalePrice' for each 'MSZoning' category, using the \"coolwarm\" color palette\n",
    "sns.boxplot(data=filtered_df_top_10, x='category', y='stars', palette=\"coolwarm\")\n",
    "plt.xticks(rotation=45, ha='right')\n",
    "plt.show()\n"
   ]
  },
  {
   "cell_type": "code",
   "execution_count": null,
   "metadata": {},
   "outputs": [],
   "source": [
    "# Handmad Clothing, Shoes & Accessories has the highest median rating"
   ]
  },
  {
   "cell_type": "code",
   "execution_count": 33,
   "metadata": {},
   "outputs": [
    {
     "data": {
      "text/plain": [
       "-0.07767299878181444"
      ]
     },
     "execution_count": 33,
     "metadata": {},
     "output_type": "execute_result"
    }
   ],
   "source": [
    "filtered_df_stars_gt_0 = filtered_df[filtered_df['stars'] > 0]\n",
    "# Calculating the Pearson correlation coefficient between 'price' and 'stars' columns\n",
    "correlation = filtered_df['price'].corr(filtered_df['stars'])\n",
    "correlation\n",
    "p\n"
   ]
  },
  {
   "cell_type": "code",
   "execution_count": null,
   "metadata": {},
   "outputs": [],
   "source": [
    "#The Pearson correlation coefficient of -0.07767299878181444 suggests a weak negative linear relationship between Amazon prices and the stars of the product. This indicates that there is a slight tendency for products with higher prices to have slightly lower star ratings on Amazon, and vice versa. However, the strength of this relationship is quite weak, implying that other factors may play a more significant role in determining product ratings. Further analysis is required"
   ]
  },
  {
   "cell_type": "markdown",
   "metadata": {},
   "source": [
    "# Part 3: Investigating the Interplay Between Product Prices and Ratings"
   ]
  },
  {
   "cell_type": "code",
   "execution_count": 20,
   "metadata": {},
   "outputs": [
    {
     "data": {
      "text/plain": [
       "0.006744508067157907"
      ]
     },
     "execution_count": 20,
     "metadata": {},
     "output_type": "execute_result"
    }
   ],
   "source": [
    "# Calculating the Pearson correlation coefficient between 'price' and 'stars' columns\n",
    "correlation = filtered_df_stars_gt_0['price'].corr(filtered_df_stars_gt_0['stars'])\n",
    "correlation\n",
    "\n"
   ]
  },
  {
   "cell_type": "code",
   "execution_count": null,
   "metadata": {},
   "outputs": [],
   "source": [
    "#if we filter the star rating and get rid of the 0 that which sadly in this data frame is counted as a vote eventhough on amazon these votes don't count towards the main result of the real star rating we can see there is almost not correlation between stars and prices"
   ]
  },
  {
   "cell_type": "code",
   "execution_count": 21,
   "metadata": {},
   "outputs": [
    {
     "data": {
      "text/plain": [
       "-0.13316425462433876"
      ]
     },
     "execution_count": 21,
     "metadata": {},
     "output_type": "execute_result"
    }
   ],
   "source": [
    "# Calculating the Spearman rank correlation between 'price' and 'stars' \n",
    "correlation = df['price'].corr(df['stars'], method='spearman')\n",
    "correlation\n",
    "\n"
   ]
  },
  {
   "cell_type": "code",
   "execution_count": null,
   "metadata": {},
   "outputs": [],
   "source": [
    "# The Spearman correlation coefficient of -0.1332 indicates a weak negative monotonic relationship between Amazon prices and the stars of the product. This suggests that there is a slight tendency for products with higher prices to have slightly lower star ratings on Amazon, and vice versa, but the relationship is weak. As with the Pearson correlation, this implies that other factors may have a more significant impact on product ratings. Further analysis is required"
   ]
  },
  {
   "cell_type": "code",
   "execution_count": 22,
   "metadata": {},
   "outputs": [
    {
     "data": {
      "text/plain": [
       "0.024659617205380468"
      ]
     },
     "execution_count": 22,
     "metadata": {},
     "output_type": "execute_result"
    }
   ],
   "source": [
    "# Calculating the Spearman rank correlation between 'price' and 'stars' \n",
    "correlation = filtered_df_stars_gt_0['price'].corr(filtered_df_stars_gt_0['stars'], method='spearman')\n",
    "correlation\n"
   ]
  },
  {
   "cell_type": "code",
   "execution_count": null,
   "metadata": {},
   "outputs": [],
   "source": [
    "# The same stands for the Spearman correlation. There is no direct correlation between price and stars"
   ]
  },
  {
   "cell_type": "markdown",
   "metadata": {},
   "source": [
    "# Visualisation"
   ]
  },
  {
   "cell_type": "markdown",
   "metadata": {},
   "source": [
    "# Scatter plot"
   ]
  },
  {
   "cell_type": "code",
   "execution_count": null,
   "metadata": {},
   "outputs": [],
   "source": [
    "# the entire df Plotting a scatter plot to visualize the relationship between 'stars' and 'price'\n",
    "sns.scatterplot(data=df, x='price', y='stars')\n",
    "\n",
    "# Adjust x-axis labels rotation for better readability\n",
    "plt.xticks(rotation=45, ha='right')\n",
    "\n",
    "# Show the plot\n",
    "plt.show()"
   ]
  },
  {
   "cell_type": "code",
   "execution_count": null,
   "metadata": {},
   "outputs": [],
   "source": [
    "sns.scatterplot(data=filtered_df, x='price', y='stars')\n",
    "plt.xticks(rotation=45, ha='right')\n",
    "plt.show()"
   ]
  },
  {
   "cell_type": "code",
   "execution_count": null,
   "metadata": {},
   "outputs": [],
   "source": [
    "sns.scatterplot(data=filtered_df_stars_gt_0, x='price', y='stars')\n",
    "plt.xticks(rotation=45, ha='right')\n",
    "plt.show()\n",
    "\n"
   ]
  },
  {
   "cell_type": "code",
   "execution_count": null,
   "metadata": {},
   "outputs": [],
   "source": [
    "# doesn´t matter the price... the reviews are a bit all over the place. Hinting at no correlation between star ratings and prices"
   ]
  },
  {
   "cell_type": "code",
   "execution_count": 26,
   "metadata": {},
   "outputs": [
    {
     "data": {
      "text/html": [
       "<div>\n",
       "<style scoped>\n",
       "    .dataframe tbody tr th:only-of-type {\n",
       "        vertical-align: middle;\n",
       "    }\n",
       "\n",
       "    .dataframe tbody tr th {\n",
       "        vertical-align: top;\n",
       "    }\n",
       "\n",
       "    .dataframe thead th {\n",
       "        text-align: right;\n",
       "    }\n",
       "</style>\n",
       "<table border=\"1\" class=\"dataframe\">\n",
       "  <thead>\n",
       "    <tr style=\"text-align: right;\">\n",
       "      <th></th>\n",
       "    </tr>\n",
       "  </thead>\n",
       "  <tbody>\n",
       "    <tr>\n",
       "      <th>0</th>\n",
       "    </tr>\n",
       "    <tr>\n",
       "      <th>1</th>\n",
       "    </tr>\n",
       "    <tr>\n",
       "      <th>2</th>\n",
       "    </tr>\n",
       "    <tr>\n",
       "      <th>3</th>\n",
       "    </tr>\n",
       "    <tr>\n",
       "      <th>4</th>\n",
       "    </tr>\n",
       "    <tr>\n",
       "      <th>...</th>\n",
       "    </tr>\n",
       "    <tr>\n",
       "      <th>2443639</th>\n",
       "    </tr>\n",
       "    <tr>\n",
       "      <th>2443642</th>\n",
       "    </tr>\n",
       "    <tr>\n",
       "      <th>2443644</th>\n",
       "    </tr>\n",
       "    <tr>\n",
       "      <th>2443649</th>\n",
       "    </tr>\n",
       "    <tr>\n",
       "      <th>2443650</th>\n",
       "    </tr>\n",
       "  </tbody>\n",
       "</table>\n",
       "<p>1114343 rows × 0 columns</p>\n",
       "</div>"
      ],
      "text/plain": [
       "Empty DataFrame\n",
       "Columns: []\n",
       "Index: [0, 1, 2, 3, 4, 5, 6, 7, 8, 9, 11, 12, 13, 14, 15, 16, 17, 18, 20, 21, 22, 23, 24, 26, 27, 29, 30, 32, 38, 39, 41, 42, 43, 44, 45, 46, 47, 52, 54, 55, 57, 58, 59, 60, 61, 62, 64, 66, 68, 70, 72, 75, 77, 79, 86, 88, 92, 94, 99, 101, 102, 103, 105, 106, 107, 109, 113, 115, 118, 119, 120, 122, 123, 124, 125, 126, 128, 130, 131, 135, 136, 137, 138, 139, 141, 142, 143, 144, 145, 146, 148, 151, 155, 160, 161, 164, 168, 169, 170, 172, ...]\n",
       "\n",
       "[1114343 rows x 0 columns]"
      ]
     },
     "execution_count": 26,
     "metadata": {},
     "output_type": "execute_result"
    }
   ],
   "source": [
    "potential_categorical_from_numerical = filtered_df_stars_gt_0.select_dtypes(\"number\").loc[:, filtered_df_stars_gt_0.select_dtypes(\"number\").nunique() < 20]\n",
    "potential_categorical_from_numerical"
   ]
  },
  {
   "cell_type": "markdown",
   "metadata": {},
   "source": [
    "# Heatmap"
   ]
  },
  {
   "cell_type": "code",
   "execution_count": null,
   "metadata": {},
   "outputs": [],
   "source": [
    "\n",
    "df_categorical = pd.concat([filtered_df_stars_gt_0.select_dtypes(\"object\"), potential_categorical_from_numerical], axis=1)\n",
    "\n",
    "df_numerical = filtered_df_stars_gt_0.select_dtypes(\"number\").drop(columns=potential_categorical_from_numerical.columns)\n",
    "correlation_matrix = df_numerical.corr()\n",
    "plt.figure(figsize=(18, 15))\n",
    "\n",
    "sns.heatmap(correlation_matrix, annot=True, cmap=\"coolwarm\")\n",
    "\n",
    "plt.title(\"Correlation Heatmap for Selected Numerical Variables\")\n",
    "plt.show()"
   ]
  },
  {
   "cell_type": "markdown",
   "metadata": {},
   "source": [
    "# QQ Plot"
   ]
  },
  {
   "cell_type": "code",
   "execution_count": null,
   "metadata": {},
   "outputs": [],
   "source": [
    "# Generating a Q-Q plot for 'SalePrice' to check if its distribution follows a normal distribution\n",
    "sm.qqplot(filtered_df['price'], line='s');\n",
    "sm.qqplot(filtered_df_stars_gt_0['price'], line='s');\n",
    "sm.qqplot(df['price'], line='s');"
   ]
  },
  {
   "cell_type": "markdown",
   "metadata": {},
   "source": [
    "# BONUS"
   ]
  },
  {
   "cell_type": "code",
   "execution_count": null,
   "metadata": {},
   "outputs": [],
   "source": [
    "category_counts = df['category'].value_counts()\n",
    "df['category'].value_counts()\n",
    "\n",
    "top_20_categories = category_counts.head(20).index\n",
    "\n",
    "filtered_df_top_20 = df[df['category'].isin(top_20_categories)]\n",
    "\n",
    "sns.violinplot(data=filtered_df_top_20, x='category', y='price', palette=\"coolwarm\")\n",
    "\n",
    "plt.xticks(rotation=45, ha='right')\n",
    "\n",
    "plt.show()\n"
   ]
  },
  {
   "cell_type": "code",
   "execution_count": null,
   "metadata": {},
   "outputs": [],
   "source": [
    "# IT'S quite hard to read the violin plot for the human eye in this format. the Outliers stretch out the picture and the picture hasn´t a high enough pixel count to be able to zoom in and be able to anything useful"
   ]
  },
  {
   "cell_type": "code",
   "execution_count": null,
   "metadata": {},
   "outputs": [],
   "source": [
    "# BAR CHART\n",
    "category_counts = df['category'].value_counts()\n",
    "\n",
    "# Select the top 10 categories\n",
    "top_10_categories = category_counts.head(10).index\n",
    "\n",
    "# Filter the DataFrame to include only the top 10 categories\n",
    "filtered_df_top_10 = df[df['category'].isin(top_10_categories)]\n",
    "# Plotting a bar plot to visualize the average 'price' for each 'category' category, using the \"coolwarm\" color palette\n",
    "sns.barplot(data=filtered_df_top_10, x='category', y='price', palette=\"coolwarm\")\n",
    "plt.xticks(rotation=45, ha='right')\n",
    "plt.show()"
   ]
  },
  {
   "cell_type": "code",
   "execution_count": null,
   "metadata": {},
   "outputs": [],
   "source": [
    "#BOX PLOTS\n",
    "filtered_df_top_10 = filtered_df_top_10[filtered_df_top_10['stars'] > 0]\n",
    "# Plotting a box plot to visualize the spread and outliers of 'SalePrice' for each 'MSZoning' category, using the \"coolwarm\" color palette\n",
    "sns.boxplot(data=filtered_df_top_10, x='category', y='stars', palette=\"coolwarm\")\n",
    "plt.xticks(rotation=45, ha='right')\n",
    "plt.show()\n",
    "# Handmad Clothing, Shoes & Accessories still has highest median rating followed by birthday gifts. We could start comparing and see how much revenue each section has and also try to understand why make-up, sports & outdoors, manicure & pedicure products have the lowest in q3 rating ."
   ]
  },
  {
   "cell_type": "code",
   "execution_count": 35,
   "metadata": {},
   "outputs": [
    {
     "name": "stdout",
     "output_type": "stream",
     "text": [
      "The correlation of filtered stars and outliers is:  -0.12490673262148386\n"
     ]
    }
   ],
   "source": [
    "# CORRELIATION COEFFICIENTS:\n",
    "filtered_df_stars_gt_0 = df[df['stars'] > 0]\n",
    "# Calculating the Pearson correlation coefficient between 'price' and 'stars' columns\n",
    "correlation = df['price'].corr(df['stars'])\n",
    "print('The correlation of filtered stars and outliers is: ', correlation)"
   ]
  },
  {
   "cell_type": "code",
   "execution_count": null,
   "metadata": {},
   "outputs": [],
   "source": [
    "#The Pearson correlation coefficient of -0.1249 suggests a weak negative linear relationship between Amazon prices and the stars of the product. This indicates that there is a slight tendency for products with higher prices to have slightly lower star ratings on Amazon, and vice versa. However, the strength of this relationship is quite weak, implying that other factors may play a more significant role in determining product ratings. Further analysis is required"
   ]
  },
  {
   "cell_type": "code",
   "execution_count": null,
   "metadata": {},
   "outputs": [],
   "source": [
    "sns.scatterplot(data=df, x='price', y='stars')\n",
    "\n",
    "plt.xticks(rotation=45, ha='right')\n",
    "\n",
    "plt.show()"
   ]
  },
  {
   "cell_type": "code",
   "execution_count": null,
   "metadata": {},
   "outputs": [],
   "source": [
    "# As we can see it´s the same interpretation as before but it´s interesting to mention that the best example of \"expensive != good stars\" since the most expensive products has poor reviews. and most of the expensive products have poor reviews"
   ]
  },
  {
   "cell_type": "code",
   "execution_count": null,
   "metadata": {},
   "outputs": [],
   "source": [
    "#HEATMAP\n",
    "df_categorical = pd.concat([filtered_df_stars_gt_0.select_dtypes(\"object\"), potential_categorical_from_numerical], axis=1)\n",
    "\n",
    "df_numerical = filtered_df_stars_gt_0.select_dtypes(\"number\").drop(columns=potential_categorical_from_numerical.columns)\n",
    "correlation_matrix = df_numerical.corr()\n",
    "\n",
    "# Setting up the matplotlib figure with an appropriate size\n",
    "plt.figure(figsize=(18, 15))\n",
    "\n",
    "# Drawing the heatmap for the numerical columns\n",
    "sns.heatmap(correlation_matrix, annot=True, cmap=\"coolwarm\")\n",
    "\n",
    "plt.title(\"Correlation Heatmap for Selected Numerical Variables\")\n",
    "plt.show()"
   ]
  },
  {
   "cell_type": "code",
   "execution_count": null,
   "metadata": {},
   "outputs": [],
   "source": [
    "#there not a great deviation between the heatmaps not enough atleast to change any conclusions"
   ]
  },
  {
   "cell_type": "code",
   "execution_count": null,
   "metadata": {},
   "outputs": [],
   "source": [
    "#QQ PLOT\n",
    "sm.qqplot(filtered_df_stars_gt_0['price'], line='s');\n",
    "sm.qqplot(df['price'], line='s');"
   ]
  },
  {
   "cell_type": "code",
   "execution_count": null,
   "metadata": {},
   "outputs": [],
   "source": [
    "#there no correlations amogst price and stars"
   ]
  }
 ],
 "metadata": {
  "kernelspec": {
   "display_name": "base",
   "language": "python",
   "name": "python3"
  },
  "language_info": {
   "codemirror_mode": {
    "name": "ipython",
    "version": 3
   },
   "file_extension": ".py",
   "mimetype": "text/x-python",
   "name": "python",
   "nbconvert_exporter": "python",
   "pygments_lexer": "ipython3",
   "version": "3.11.5"
  }
 },
 "nbformat": 4,
 "nbformat_minor": 2
}
